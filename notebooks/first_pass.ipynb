{
 "cells": [
  {
   "cell_type": "code",
   "execution_count": 8,
   "metadata": {},
   "outputs": [],
   "source": [
    "import os, shutil, subprocess, glob\n",
    "\n",
    "import numpy as np\n",
    "import scipy as sp\n",
    "import cortex as cx\n",
    "import bottleneck as bn\n",
    "\n",
    "import matplotlib.pyplot as plt\n",
    "%matplotlib inline"
   ]
  },
  {
   "cell_type": "code",
   "execution_count": 9,
   "metadata": {},
   "outputs": [
    {
     "name": "stdout",
     "output_type": "stream",
     "text": [
      "[['/scratch/2021/nprf_ss/derivatives/pybest/sub-01/denoising/sub-01_task-prf_space-fsaverage_hemi-L_run-1_desc-denoised_bold.npy', '/scratch/2021/nprf_ss/derivatives/pybest/sub-01/denoising/sub-01_task-prf_space-fsaverage_hemi-L_run-2_desc-denoised_bold.npy', '/scratch/2021/nprf_ss/derivatives/pybest/sub-01/denoising/sub-01_task-prf_space-fsaverage_hemi-L_run-3_desc-denoised_bold.npy', '/scratch/2021/nprf_ss/derivatives/pybest/sub-01/denoising/sub-01_task-prf_space-fsaverage_hemi-L_run-4_desc-denoised_bold.npy', '/scratch/2021/nprf_ss/derivatives/pybest/sub-01/denoising/sub-01_task-prf_space-fsaverage_hemi-L_run-5_desc-denoised_bold.npy', '/scratch/2021/nprf_ss/derivatives/pybest/sub-01/denoising/sub-01_task-prf_space-fsaverage_hemi-L_run-6_desc-denoised_bold.npy', '/scratch/2021/nprf_ss/derivatives/pybest/sub-01/denoising/sub-01_task-prf_space-fsaverage_hemi-L_run-7_desc-denoised_bold.npy', '/scratch/2021/nprf_ss/derivatives/pybest/sub-01/denoising/sub-01_task-prf_space-fsaverage_hemi-L_run-8_desc-denoised_bold.npy', '/scratch/2021/nprf_ss/derivatives/pybest/sub-01/denoising/sub-01_task-prf_space-fsaverage_hemi-L_run-9_desc-denoised_bold.npy', '/scratch/2021/nprf_ss/derivatives/pybest/sub-01/denoising/sub-01_task-prf_space-fsaverage_hemi-L_run-10_desc-denoised_bold.npy', '/scratch/2021/nprf_ss/derivatives/pybest/sub-01/denoising/sub-01_task-prf_space-fsaverage_hemi-L_run-11_desc-denoised_bold.npy', '/scratch/2021/nprf_ss/derivatives/pybest/sub-01/denoising/sub-01_task-prf_space-fsaverage_hemi-L_run-12_desc-denoised_bold.npy', '/scratch/2021/nprf_ss/derivatives/pybest/sub-01/denoising/sub-01_task-prf_space-fsaverage_hemi-L_run-13_desc-denoised_bold.npy', '/scratch/2021/nprf_ss/derivatives/pybest/sub-01/denoising/sub-01_task-prf_space-fsaverage_hemi-L_run-14_desc-denoised_bold.npy', '/scratch/2021/nprf_ss/derivatives/pybest/sub-01/denoising/sub-01_task-prf_space-fsaverage_hemi-L_run-15_desc-denoised_bold.npy', '/scratch/2021/nprf_ss/derivatives/pybest/sub-01/denoising/sub-01_task-prf_space-fsaverage_hemi-L_run-16_desc-denoised_bold.npy', '/scratch/2021/nprf_ss/derivatives/pybest/sub-01/denoising/sub-01_task-prf_space-fsaverage_hemi-L_run-17_desc-denoised_bold.npy', '/scratch/2021/nprf_ss/derivatives/pybest/sub-01/denoising/sub-01_task-prf_space-fsaverage_hemi-L_run-18_desc-denoised_bold.npy', '/scratch/2021/nprf_ss/derivatives/pybest/sub-01/denoising/sub-01_task-prf_space-fsaverage_hemi-L_run-19_desc-denoised_bold.npy', '/scratch/2021/nprf_ss/derivatives/pybest/sub-01/denoising/sub-01_task-prf_space-fsaverage_hemi-L_run-20_desc-denoised_bold.npy', '/scratch/2021/nprf_ss/derivatives/pybest/sub-01/denoising/sub-01_task-prf_space-fsaverage_hemi-L_run-21_desc-denoised_bold.npy', '/scratch/2021/nprf_ss/derivatives/pybest/sub-01/denoising/sub-01_task-prf_space-fsaverage_hemi-L_run-22_desc-denoised_bold.npy', '/scratch/2021/nprf_ss/derivatives/pybest/sub-01/denoising/sub-01_task-prf_space-fsaverage_hemi-L_run-23_desc-denoised_bold.npy', '/scratch/2021/nprf_ss/derivatives/pybest/sub-01/denoising/sub-01_task-prf_space-fsaverage_hemi-L_run-24_desc-denoised_bold.npy', '/scratch/2021/nprf_ss/derivatives/pybest/sub-01/denoising/sub-01_task-prf_space-fsaverage_hemi-L_run-25_desc-denoised_bold.npy', '/scratch/2021/nprf_ss/derivatives/pybest/sub-01/denoising/sub-01_task-prf_space-fsaverage_hemi-L_run-26_desc-denoised_bold.npy', '/scratch/2021/nprf_ss/derivatives/pybest/sub-01/denoising/sub-01_task-prf_space-fsaverage_hemi-L_run-27_desc-denoised_bold.npy', '/scratch/2021/nprf_ss/derivatives/pybest/sub-01/denoising/sub-01_task-prf_space-fsaverage_hemi-L_run-28_desc-denoised_bold.npy', '/scratch/2021/nprf_ss/derivatives/pybest/sub-01/denoising/sub-01_task-prf_space-fsaverage_hemi-L_run-29_desc-denoised_bold.npy', '/scratch/2021/nprf_ss/derivatives/pybest/sub-01/denoising/sub-01_task-prf_space-fsaverage_hemi-L_run-30_desc-denoised_bold.npy', '/scratch/2021/nprf_ss/derivatives/pybest/sub-01/denoising/sub-01_task-prf_space-fsaverage_hemi-L_run-31_desc-denoised_bold.npy', '/scratch/2021/nprf_ss/derivatives/pybest/sub-01/denoising/sub-01_task-prf_space-fsaverage_hemi-L_run-32_desc-denoised_bold.npy', '/scratch/2021/nprf_ss/derivatives/pybest/sub-01/denoising/sub-01_task-prf_space-fsaverage_hemi-L_run-33_desc-denoised_bold.npy', '/scratch/2021/nprf_ss/derivatives/pybest/sub-01/denoising/sub-01_task-prf_space-fsaverage_hemi-L_run-34_desc-denoised_bold.npy', '/scratch/2021/nprf_ss/derivatives/pybest/sub-01/denoising/sub-01_task-prf_space-fsaverage_hemi-L_run-35_desc-denoised_bold.npy', '/scratch/2021/nprf_ss/derivatives/pybest/sub-01/denoising/sub-01_task-prf_space-fsaverage_hemi-L_run-36_desc-denoised_bold.npy', '/scratch/2021/nprf_ss/derivatives/pybest/sub-01/denoising/sub-01_task-prf_space-fsaverage_hemi-L_run-37_desc-denoised_bold.npy'], ['/scratch/2021/nprf_ss/derivatives/pybest/sub-01/denoising/sub-01_task-prf_space-fsaverage_hemi-R_run-1_desc-denoised_bold.npy', '/scratch/2021/nprf_ss/derivatives/pybest/sub-01/denoising/sub-01_task-prf_space-fsaverage_hemi-R_run-2_desc-denoised_bold.npy', '/scratch/2021/nprf_ss/derivatives/pybest/sub-01/denoising/sub-01_task-prf_space-fsaverage_hemi-R_run-3_desc-denoised_bold.npy', '/scratch/2021/nprf_ss/derivatives/pybest/sub-01/denoising/sub-01_task-prf_space-fsaverage_hemi-R_run-4_desc-denoised_bold.npy', '/scratch/2021/nprf_ss/derivatives/pybest/sub-01/denoising/sub-01_task-prf_space-fsaverage_hemi-R_run-5_desc-denoised_bold.npy', '/scratch/2021/nprf_ss/derivatives/pybest/sub-01/denoising/sub-01_task-prf_space-fsaverage_hemi-R_run-6_desc-denoised_bold.npy', '/scratch/2021/nprf_ss/derivatives/pybest/sub-01/denoising/sub-01_task-prf_space-fsaverage_hemi-R_run-7_desc-denoised_bold.npy', '/scratch/2021/nprf_ss/derivatives/pybest/sub-01/denoising/sub-01_task-prf_space-fsaverage_hemi-R_run-8_desc-denoised_bold.npy', '/scratch/2021/nprf_ss/derivatives/pybest/sub-01/denoising/sub-01_task-prf_space-fsaverage_hemi-R_run-9_desc-denoised_bold.npy', '/scratch/2021/nprf_ss/derivatives/pybest/sub-01/denoising/sub-01_task-prf_space-fsaverage_hemi-R_run-10_desc-denoised_bold.npy', '/scratch/2021/nprf_ss/derivatives/pybest/sub-01/denoising/sub-01_task-prf_space-fsaverage_hemi-R_run-11_desc-denoised_bold.npy', '/scratch/2021/nprf_ss/derivatives/pybest/sub-01/denoising/sub-01_task-prf_space-fsaverage_hemi-R_run-12_desc-denoised_bold.npy', '/scratch/2021/nprf_ss/derivatives/pybest/sub-01/denoising/sub-01_task-prf_space-fsaverage_hemi-R_run-13_desc-denoised_bold.npy', '/scratch/2021/nprf_ss/derivatives/pybest/sub-01/denoising/sub-01_task-prf_space-fsaverage_hemi-R_run-14_desc-denoised_bold.npy', '/scratch/2021/nprf_ss/derivatives/pybest/sub-01/denoising/sub-01_task-prf_space-fsaverage_hemi-R_run-15_desc-denoised_bold.npy', '/scratch/2021/nprf_ss/derivatives/pybest/sub-01/denoising/sub-01_task-prf_space-fsaverage_hemi-R_run-16_desc-denoised_bold.npy', '/scratch/2021/nprf_ss/derivatives/pybest/sub-01/denoising/sub-01_task-prf_space-fsaverage_hemi-R_run-17_desc-denoised_bold.npy', '/scratch/2021/nprf_ss/derivatives/pybest/sub-01/denoising/sub-01_task-prf_space-fsaverage_hemi-R_run-18_desc-denoised_bold.npy', '/scratch/2021/nprf_ss/derivatives/pybest/sub-01/denoising/sub-01_task-prf_space-fsaverage_hemi-R_run-19_desc-denoised_bold.npy', '/scratch/2021/nprf_ss/derivatives/pybest/sub-01/denoising/sub-01_task-prf_space-fsaverage_hemi-R_run-20_desc-denoised_bold.npy', '/scratch/2021/nprf_ss/derivatives/pybest/sub-01/denoising/sub-01_task-prf_space-fsaverage_hemi-R_run-21_desc-denoised_bold.npy', '/scratch/2021/nprf_ss/derivatives/pybest/sub-01/denoising/sub-01_task-prf_space-fsaverage_hemi-R_run-22_desc-denoised_bold.npy', '/scratch/2021/nprf_ss/derivatives/pybest/sub-01/denoising/sub-01_task-prf_space-fsaverage_hemi-R_run-23_desc-denoised_bold.npy', '/scratch/2021/nprf_ss/derivatives/pybest/sub-01/denoising/sub-01_task-prf_space-fsaverage_hemi-R_run-24_desc-denoised_bold.npy', '/scratch/2021/nprf_ss/derivatives/pybest/sub-01/denoising/sub-01_task-prf_space-fsaverage_hemi-R_run-25_desc-denoised_bold.npy', '/scratch/2021/nprf_ss/derivatives/pybest/sub-01/denoising/sub-01_task-prf_space-fsaverage_hemi-R_run-26_desc-denoised_bold.npy', '/scratch/2021/nprf_ss/derivatives/pybest/sub-01/denoising/sub-01_task-prf_space-fsaverage_hemi-R_run-27_desc-denoised_bold.npy', '/scratch/2021/nprf_ss/derivatives/pybest/sub-01/denoising/sub-01_task-prf_space-fsaverage_hemi-R_run-28_desc-denoised_bold.npy', '/scratch/2021/nprf_ss/derivatives/pybest/sub-01/denoising/sub-01_task-prf_space-fsaverage_hemi-R_run-29_desc-denoised_bold.npy', '/scratch/2021/nprf_ss/derivatives/pybest/sub-01/denoising/sub-01_task-prf_space-fsaverage_hemi-R_run-30_desc-denoised_bold.npy', '/scratch/2021/nprf_ss/derivatives/pybest/sub-01/denoising/sub-01_task-prf_space-fsaverage_hemi-R_run-31_desc-denoised_bold.npy', '/scratch/2021/nprf_ss/derivatives/pybest/sub-01/denoising/sub-01_task-prf_space-fsaverage_hemi-R_run-32_desc-denoised_bold.npy', '/scratch/2021/nprf_ss/derivatives/pybest/sub-01/denoising/sub-01_task-prf_space-fsaverage_hemi-R_run-33_desc-denoised_bold.npy', '/scratch/2021/nprf_ss/derivatives/pybest/sub-01/denoising/sub-01_task-prf_space-fsaverage_hemi-R_run-34_desc-denoised_bold.npy', '/scratch/2021/nprf_ss/derivatives/pybest/sub-01/denoising/sub-01_task-prf_space-fsaverage_hemi-R_run-35_desc-denoised_bold.npy', '/scratch/2021/nprf_ss/derivatives/pybest/sub-01/denoising/sub-01_task-prf_space-fsaverage_hemi-R_run-36_desc-denoised_bold.npy', '/scratch/2021/nprf_ss/derivatives/pybest/sub-01/denoising/sub-01_task-prf_space-fsaverage_hemi-R_run-37_desc-denoised_bold.npy']]\n"
     ]
    }
   ],
   "source": [
    "base_dir = '/scratch/2021/nprf_ss/derivatives/'\n",
    "sjs = ['sub-01', 'sub-02']\n",
    "sj = 0\n",
    "\n",
    "h_files = [glob.glob(os.path.join(base_dir, 'pybest', sjs[sj], 'denoising', f'{sjs[sj]}_task-prf_space-fsaverage_hemi-{hemi}_run-*_desc-denoised_bold.npy')) for hemi in ['L', 'R']]\n",
    "print(h_files)\n",
    "\n",
    "def median_funcs_one_hemi(funcs):\n",
    "    all_data = np.array([np.load(f) for f in funcs])\n",
    "    all_data[all_data == 0] = np.nan\n",
    "    return bn.nanmedian(all_data, 0)\n",
    "\n",
    "av_hemis = [median_funcs_one_hemi(funcs) for funcs in h_files]"
   ]
  },
  {
   "cell_type": "code",
   "execution_count": null,
   "metadata": {},
   "outputs": [],
   "source": []
  }
 ],
 "metadata": {
  "kernelspec": {
   "display_name": "cf_hcp",
   "language": "python",
   "name": "cf_hcp"
  },
  "language_info": {
   "codemirror_mode": {
    "name": "ipython",
    "version": 3
   },
   "file_extension": ".py",
   "mimetype": "text/x-python",
   "name": "python",
   "nbconvert_exporter": "python",
   "pygments_lexer": "ipython3",
   "version": "3.7.7"
  }
 },
 "nbformat": 4,
 "nbformat_minor": 4
}
